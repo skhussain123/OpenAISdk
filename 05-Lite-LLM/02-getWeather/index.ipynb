{
 "cells": [
  {
   "cell_type": "markdown",
   "id": "14dd9964",
   "metadata": {},
   "source": [
    "1. Install the required Python packages by running the following command in the notebook:"
   ]
  },
  {
   "cell_type": "code",
   "execution_count": 15,
   "id": "dd0a2037",
   "metadata": {},
   "outputs": [
    {
     "name": "stdout",
     "output_type": "stream",
     "text": [
      "Note: you may need to restart the kernel to use updated packages.\n"
     ]
    }
   ],
   "source": [
    "%pip install -Uq openai-agents \"openai-agents[litellm]\""
   ]
  },
  {
   "cell_type": "markdown",
   "id": "38f06771",
   "metadata": {},
   "source": [
    "2. Ensure your Jupyter environment supports asynchronous functions by applying nest_asyncio:"
   ]
  },
  {
   "cell_type": "code",
   "execution_count": 12,
   "id": "3af18d4c",
   "metadata": {},
   "outputs": [],
   "source": [
    "import nest_asyncio\n",
    "nest_asyncio.apply()"
   ]
  },
  {
   "cell_type": "markdown",
   "id": "6dc73c89",
   "metadata": {},
   "source": [
    "3. Set up your Google Gemini API key in your environment. In Google Colab, you can store it in the userdata module:"
   ]
  },
  {
   "cell_type": "code",
   "execution_count": 13,
   "id": "316428f0",
   "metadata": {},
   "outputs": [],
   "source": [
    "import os\n",
    "GEMINI_API_KEY = os.getenv(\"GEMINI_API_KEY\")"
   ]
  },
  {
   "cell_type": "code",
   "execution_count": 14,
   "id": "5720ac23",
   "metadata": {},
   "outputs": [
    {
     "name": "stdout",
     "output_type": "stream",
     "text": [
      "Weather Update: The weather in Karachi is currently [temperature] with [conditions, e.g., sunny skies, cloudy, light rain]. The wind is blowing from the [direction] at [speed]. The forecast for today is [forecast].\n",
      "\n"
     ]
    }
   ],
   "source": [
    "from agents import Agent, Runner, function_tool\n",
    "from agents.extensions.models.litellm_model import LitellmModel\n",
    "\n",
    "MODEL = 'gemini/gemini-2.0-flash'\n",
    "\n",
    "@function_tool\n",
    "def get_weather(city: str) -> str:\n",
    "    print(f\"[debug] getting weather for {city}\")\n",
    "    return f\"The weather in {city} is sunny.\"\n",
    "\n",
    "agent = Agent(\n",
    "    name=\"Assistant\",\n",
    "    instructions=\"You only respond in weather Update.\",\n",
    "    model=LitellmModel(model=MODEL, api_key=GEMINI_API_KEY),\n",
    ")\n",
    "\n",
    "result = Runner.run_sync(agent, \"What's the weather in karachi?\")\n",
    "print(result.final_output)"
   ]
  },
  {
   "cell_type": "markdown",
   "id": "bf219111",
   "metadata": {},
   "source": [
    "* The get_weather function is a placeholder. Replace it with a real API call (e.g., OpenWeatherMap) for production use.\n",
    "* The notebook disables tracing (set_tracing_disabled(True)) to simplify output. Enable tracing for debugging if needed.\n",
    "* Ensure your API key is securely stored and not hardcoded in production environments."
   ]
  }
 ],
 "metadata": {
  "kernelspec": {
   "display_name": ".venv",
   "language": "python",
   "name": "python3"
  },
  "language_info": {
   "codemirror_mode": {
    "name": "ipython",
    "version": 3
   },
   "file_extension": ".py",
   "mimetype": "text/x-python",
   "name": "python",
   "nbconvert_exporter": "python",
   "pygments_lexer": "ipython3",
   "version": "3.11.9"
  }
 },
 "nbformat": 4,
 "nbformat_minor": 5
}
